{
 "cells": [
  {
   "cell_type": "code",
   "execution_count": 1,
   "id": "5d5ad2e7-1b27-448e-a9a6-0192e134b25c",
   "metadata": {},
   "outputs": [],
   "source": [
    "%matplotlib inline\n",
    "import matplotlib.pyplot as plt\n",
    "import numpy as np"
   ]
  },
  {
   "cell_type": "code",
   "execution_count": 20,
   "id": "f5fae6eb-581c-4601-8516-e2333dec840c",
   "metadata": {},
   "outputs": [],
   "source": [
    "ms = 4428\n",
    "mpi = 442.8\n",
    "fpi = 49.68"
   ]
  },
  {
   "cell_type": "code",
   "execution_count": 21,
   "id": "ff5d74af-14a7-4fa1-a0b7-aba9d07cdcbe",
   "metadata": {},
   "outputs": [],
   "source": [
    "def lmbd(M):\n",
    "    return (mpi**2 - ms**2)/fpi**2*(5 - 2*(ms**2 - mpi**2)/(M**2 - 4*mpi**2)*np.log(1 + (M**2 - 4*mpi**2)/ms**2))"
   ]
  },
  {
   "cell_type": "code",
   "execution_count": 34,
   "id": "f3e4c4b6-a8bf-423e-85c8-e7ff6c9ac37d",
   "metadata": {},
   "outputs": [],
   "source": [
    "def Delta(M):\n",
    "    return np.sqrt(1 - 4*mpi**2/M**2)/32/np.pi"
   ]
  },
  {
   "cell_type": "code",
   "execution_count": 35,
   "id": "f6aca693-df1a-4490-9b87-ccd3d81347c6",
   "metadata": {},
   "outputs": [],
   "source": [
    "def g(M):\n",
    "    return 1/np.abs(1 - 1j*Delta(M)*lmbd(M))*(mpi**2 - ms**2)/fpi"
   ]
  },
  {
   "cell_type": "code",
   "execution_count": 36,
   "id": "90bd88ba-668e-49f8-ad8e-2caf774ff814",
   "metadata": {},
   "outputs": [],
   "source": [
    "def f(M):\n",
    "    return ms**2 + 3*lmbd(M)*Delta(M)**2*g(M)**2"
   ]
  },
  {
   "cell_type": "code",
   "execution_count": 37,
   "id": "583e4d4f-529f-4555-994e-f337c0e44fcd",
   "metadata": {},
   "outputs": [
    {
     "name": "stderr",
     "output_type": "stream",
     "text": [
      "/tmp/ipykernel_11456/3348056146.py:2: RuntimeWarning: invalid value encountered in sqrt\n",
      "  return np.sqrt(1 - 4*mpi**2/M**2)/32/np.pi\n"
     ]
    },
    {
     "data": {
      "text/plain": [
       "[<matplotlib.lines.Line2D at 0x7f3696594040>]"
      ]
     },
     "execution_count": 37,
     "metadata": {},
     "output_type": "execute_result"
    },
    {
     "data": {
      "image/png": "[encoded data removed]",
      "text/plain": [
       "<Figure size 432x288 with 1 Axes>"
      ]
     },
     "metadata": {
      "needs_background": "light"
     },
     "output_type": "display_data"
    }
   ],
   "source": [
    "M = np.arange(1,1000,10)\n",
    "plt.plot(M, f(M))\n",
    "plt.plot(M, M**2)"
   ]
  },
  {
   "cell_type": "code",
   "execution_count": null,
   "id": "b5baba20-c9e2-4b01-aa7e-8b97243c7049",
   "metadata": {},
   "outputs": [],
   "source": []
  }
 ],
 "metadata": {
  "kernelspec": {
   "display_name": "Python 3 (ipykernel)",
   "language": "python",
   "name": "python3"
  },
  "language_info": {
   "codemirror_mode": {
    "name": "ipython",
    "version": 3
   },
   "file_extension": ".py",
   "mimetype": "text/x-python",
   "name": "python",
   "nbconvert_exporter": "python",
   "pygments_lexer": "ipython3",
   "version": "3.10.12"
  }
 },
 "nbformat": 4,
 "nbformat_minor": 5
}
